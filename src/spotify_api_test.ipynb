{
 "cells": [
  {
   "cell_type": "code",
   "execution_count": 1,
   "metadata": {},
   "outputs": [],
   "source": [
    "import pandas as pd \n",
    "\n",
    "import spotipy\n",
    "from spotipy.oauth2 import SpotifyClientCredentials\n",
    "\n",
    "import os\n",
    "from pathlib import Path\n",
    "import sys\n",
    "\n",
    "current_dir = os.path.join(Path().resolve())\n",
    "sys.path.append(str(current_dir) + '/utils/')\n",
    "\n",
    "# My own credenctials\n",
    "from utils.config import SpotifyCredectials"
   ]
  },
  {
   "cell_type": "markdown",
   "metadata": {},
   "source": [
    "## API Intialization"
   ]
  },
  {
   "cell_type": "markdown",
   "metadata": {},
   "source": [
    "#### Set your spotify credentials "
   ]
  },
  {
   "cell_type": "code",
   "execution_count": 2,
   "metadata": {
    "scrolled": true
   },
   "outputs": [],
   "source": [
    "# Get my credentials. \n",
    "# Please define your own Spotify Developper credentilals\n",
    "\n",
    "cred = SpotifyCredectials()\n",
    "\n",
    "my_id = cred.my_id\n",
    "my_secret = cred.my_secret"
   ]
  },
  {
   "cell_type": "markdown",
   "metadata": {},
   "source": [
    "#### Intialize Spotify API"
   ]
  },
  {
   "cell_type": "code",
   "execution_count": 3,
   "metadata": {},
   "outputs": [],
   "source": [
    "ccm = SpotifyClientCredentials(client_id = my_id, client_secret = my_secret)\n",
    "spotify = spotipy.Spotify(client_credentials_manager = ccm)"
   ]
  },
  {
   "cell_type": "markdown",
   "metadata": {},
   "source": [
    "## Search Artist "
   ]
  },
  {
   "cell_type": "code",
   "execution_count": 4,
   "metadata": {},
   "outputs": [],
   "source": [
    "artist_search_keyword = 'Oasis'"
   ]
  },
  {
   "cell_type": "markdown",
   "metadata": {},
   "source": [
    "#### Find artist in Spotify"
   ]
  },
  {
   "cell_type": "code",
   "execution_count": 5,
   "metadata": {
    "scrolled": true
   },
   "outputs": [
    {
     "data": {
      "text/html": [
       "<div>\n",
       "<style scoped>\n",
       "    .dataframe tbody tr th:only-of-type {\n",
       "        vertical-align: middle;\n",
       "    }\n",
       "\n",
       "    .dataframe tbody tr th {\n",
       "        vertical-align: top;\n",
       "    }\n",
       "\n",
       "    .dataframe thead th {\n",
       "        text-align: right;\n",
       "    }\n",
       "</style>\n",
       "<table border=\"1\" class=\"dataframe\">\n",
       "  <thead>\n",
       "    <tr style=\"text-align: right;\">\n",
       "      <th></th>\n",
       "      <th>artist</th>\n",
       "      <th>followers</th>\n",
       "      <th>popularity</th>\n",
       "      <th>genres</th>\n",
       "      <th>external_urls</th>\n",
       "      <th>href</th>\n",
       "      <th>id</th>\n",
       "      <th>uri</th>\n",
       "    </tr>\n",
       "  </thead>\n",
       "  <tbody>\n",
       "    <tr>\n",
       "      <th>0</th>\n",
       "      <td>Oasis</td>\n",
       "      <td>8133279</td>\n",
       "      <td>77</td>\n",
       "      <td>[beatlesque, britpop, madchester, permanent wa...</td>\n",
       "      <td>https://open.spotify.com/artist/2DaxqgrOhkeH0f...</td>\n",
       "      <td>https://api.spotify.com/v1/artists/2DaxqgrOhke...</td>\n",
       "      <td>2DaxqgrOhkeH0fpeiQq2f4</td>\n",
       "      <td>spotify:artist:2DaxqgrOhkeH0fpeiQq2f4</td>\n",
       "    </tr>\n",
       "  </tbody>\n",
       "</table>\n",
       "</div>"
      ],
      "text/plain": [
       "  artist  followers  popularity  \\\n",
       "0  Oasis    8133279          77   \n",
       "\n",
       "                                              genres  \\\n",
       "0  [beatlesque, britpop, madchester, permanent wa...   \n",
       "\n",
       "                                       external_urls  \\\n",
       "0  https://open.spotify.com/artist/2DaxqgrOhkeH0f...   \n",
       "\n",
       "                                                href                      id  \\\n",
       "0  https://api.spotify.com/v1/artists/2DaxqgrOhke...  2DaxqgrOhkeH0fpeiQq2f4   \n",
       "\n",
       "                                     uri  \n",
       "0  spotify:artist:2DaxqgrOhkeH0fpeiQq2f4  "
      ]
     },
     "execution_count": 5,
     "metadata": {},
     "output_type": "execute_result"
    }
   ],
   "source": [
    "results = spotify.search(artist_search_keyword, limit=5, offset=0, type='artist', market=None)\n",
    "\n",
    "result_list = []\n",
    "for idx, artist in enumerate(results['artists']['items']):\n",
    "    result_list.append({'artist': artist['name'], \n",
    "                                    'followers': artist['followers']['total'], \n",
    "                                     'popularity': artist['popularity'], \n",
    "                                    'genres': artist['genres'], \n",
    "                                     'external_urls': artist['external_urls']['spotify'], \n",
    "                                    'artist': artist['name'],       \n",
    "                                    'href': artist['href'], \n",
    "                                    'id': artist['id'], \n",
    "                                     'uri': artist['uri']\n",
    "    })\n",
    "    \n",
    "result_artists_df = pd.DataFrame(result_list).sort_values(by = ['followers'], ascending = False)\n",
    "\n",
    "# Get search result \n",
    "result_artists_df = result_artists_df[result_artists_df['artist']==artist_search_keyword]\n",
    "result_artists_df"
   ]
  },
  {
   "cell_type": "markdown",
   "metadata": {},
   "source": [
    "#### Get top songs"
   ]
  },
  {
   "cell_type": "code",
   "execution_count": 6,
   "metadata": {
    "scrolled": true
   },
   "outputs": [
    {
     "data": {
      "text/html": [
       "<div>\n",
       "<style scoped>\n",
       "    .dataframe tbody tr th:only-of-type {\n",
       "        vertical-align: middle;\n",
       "    }\n",
       "\n",
       "    .dataframe tbody tr th {\n",
       "        vertical-align: top;\n",
       "    }\n",
       "\n",
       "    .dataframe thead th {\n",
       "        text-align: right;\n",
       "    }\n",
       "</style>\n",
       "<table border=\"1\" class=\"dataframe\">\n",
       "  <thead>\n",
       "    <tr style=\"text-align: right;\">\n",
       "      <th></th>\n",
       "      <th>track</th>\n",
       "      <th>popularity</th>\n",
       "      <th>audio</th>\n",
       "      <th>cover art</th>\n",
       "    </tr>\n",
       "  </thead>\n",
       "  <tbody>\n",
       "    <tr>\n",
       "      <th>0</th>\n",
       "      <td>Wonderwall - Remastered</td>\n",
       "      <td>78</td>\n",
       "      <td>https://p.scdn.co/mp3-preview/6b7c37bb7af0b116...</td>\n",
       "      <td>https://i.scdn.co/image/ab67616d0000b2737a4c8c...</td>\n",
       "    </tr>\n",
       "    <tr>\n",
       "      <th>1</th>\n",
       "      <td>Don't Look Back In Anger - Remastered</td>\n",
       "      <td>73</td>\n",
       "      <td>https://p.scdn.co/mp3-preview/f2e28606ab3c2459...</td>\n",
       "      <td>https://i.scdn.co/image/ab67616d0000b2737a4c8c...</td>\n",
       "    </tr>\n",
       "    <tr>\n",
       "      <th>2</th>\n",
       "      <td>Stop Crying Your Heart Out</td>\n",
       "      <td>66</td>\n",
       "      <td>https://p.scdn.co/mp3-preview/27198f8fdf352238...</td>\n",
       "      <td>https://i.scdn.co/image/ab67616d0000b273bd1486...</td>\n",
       "    </tr>\n",
       "    <tr>\n",
       "      <th>3</th>\n",
       "      <td>Champagne Supernova - Remastered</td>\n",
       "      <td>67</td>\n",
       "      <td>https://p.scdn.co/mp3-preview/09eb6b89a0a2f2a5...</td>\n",
       "      <td>https://i.scdn.co/image/ab67616d0000b2737a4c8c...</td>\n",
       "    </tr>\n",
       "    <tr>\n",
       "      <th>4</th>\n",
       "      <td>Live Forever - Remastered</td>\n",
       "      <td>66</td>\n",
       "      <td>https://p.scdn.co/mp3-preview/08a870fa4ed4cf32...</td>\n",
       "      <td>https://i.scdn.co/image/ab67616d0000b273d86a1e...</td>\n",
       "    </tr>\n",
       "    <tr>\n",
       "      <th>5</th>\n",
       "      <td>Supersonic - Remastered</td>\n",
       "      <td>64</td>\n",
       "      <td>https://p.scdn.co/mp3-preview/053f70565369fef1...</td>\n",
       "      <td>https://i.scdn.co/image/ab67616d0000b273d86a1e...</td>\n",
       "    </tr>\n",
       "    <tr>\n",
       "      <th>6</th>\n",
       "      <td>Half The World Away - Remastered</td>\n",
       "      <td>63</td>\n",
       "      <td>https://p.scdn.co/mp3-preview/b0651e60e202d825...</td>\n",
       "      <td>https://i.scdn.co/image/ab67616d0000b273d86a1e...</td>\n",
       "    </tr>\n",
       "    <tr>\n",
       "      <th>7</th>\n",
       "      <td>She's Electric - Remastered</td>\n",
       "      <td>62</td>\n",
       "      <td>https://p.scdn.co/mp3-preview/b30f41358af23297...</td>\n",
       "      <td>https://i.scdn.co/image/ab67616d0000b2737a4c8c...</td>\n",
       "    </tr>\n",
       "    <tr>\n",
       "      <th>8</th>\n",
       "      <td>Stand By Me - Remastered</td>\n",
       "      <td>61</td>\n",
       "      <td>https://p.scdn.co/mp3-preview/11f0fd6e26cf2970...</td>\n",
       "      <td>https://i.scdn.co/image/ab67616d0000b273aeda36...</td>\n",
       "    </tr>\n",
       "    <tr>\n",
       "      <th>9</th>\n",
       "      <td>Songbird</td>\n",
       "      <td>61</td>\n",
       "      <td>https://p.scdn.co/mp3-preview/a2d105ef5f822288...</td>\n",
       "      <td>https://i.scdn.co/image/ab67616d0000b273bd1486...</td>\n",
       "    </tr>\n",
       "  </tbody>\n",
       "</table>\n",
       "</div>"
      ],
      "text/plain": [
       "                                   track  popularity  \\\n",
       "0                Wonderwall - Remastered          78   \n",
       "1  Don't Look Back In Anger - Remastered          73   \n",
       "2             Stop Crying Your Heart Out          66   \n",
       "3       Champagne Supernova - Remastered          67   \n",
       "4              Live Forever - Remastered          66   \n",
       "5                Supersonic - Remastered          64   \n",
       "6       Half The World Away - Remastered          63   \n",
       "7            She's Electric - Remastered          62   \n",
       "8               Stand By Me - Remastered          61   \n",
       "9                               Songbird          61   \n",
       "\n",
       "                                               audio  \\\n",
       "0  https://p.scdn.co/mp3-preview/6b7c37bb7af0b116...   \n",
       "1  https://p.scdn.co/mp3-preview/f2e28606ab3c2459...   \n",
       "2  https://p.scdn.co/mp3-preview/27198f8fdf352238...   \n",
       "3  https://p.scdn.co/mp3-preview/09eb6b89a0a2f2a5...   \n",
       "4  https://p.scdn.co/mp3-preview/08a870fa4ed4cf32...   \n",
       "5  https://p.scdn.co/mp3-preview/053f70565369fef1...   \n",
       "6  https://p.scdn.co/mp3-preview/b0651e60e202d825...   \n",
       "7  https://p.scdn.co/mp3-preview/b30f41358af23297...   \n",
       "8  https://p.scdn.co/mp3-preview/11f0fd6e26cf2970...   \n",
       "9  https://p.scdn.co/mp3-preview/a2d105ef5f822288...   \n",
       "\n",
       "                                           cover art  \n",
       "0  https://i.scdn.co/image/ab67616d0000b2737a4c8c...  \n",
       "1  https://i.scdn.co/image/ab67616d0000b2737a4c8c...  \n",
       "2  https://i.scdn.co/image/ab67616d0000b273bd1486...  \n",
       "3  https://i.scdn.co/image/ab67616d0000b2737a4c8c...  \n",
       "4  https://i.scdn.co/image/ab67616d0000b273d86a1e...  \n",
       "5  https://i.scdn.co/image/ab67616d0000b273d86a1e...  \n",
       "6  https://i.scdn.co/image/ab67616d0000b273d86a1e...  \n",
       "7  https://i.scdn.co/image/ab67616d0000b2737a4c8c...  \n",
       "8  https://i.scdn.co/image/ab67616d0000b273aeda36...  \n",
       "9  https://i.scdn.co/image/ab67616d0000b273bd1486...  "
      ]
     },
     "execution_count": 6,
     "metadata": {},
     "output_type": "execute_result"
    }
   ],
   "source": [
    "artist_url =result_artists_df['uri'][0]\n",
    "results = spotify.artist_top_tracks(artist_url)\n",
    "\n",
    "\n",
    "top_song_list = []\n",
    "for track in results['tracks'][:10]:\n",
    "    top_song_list.append({'track': track['name'], \n",
    "                                  'popularity': track['popularity'],\n",
    "                                    'audio': track['preview_url'],     \n",
    "                                     'cover art': track['album']['images'][0]['url']\n",
    "                                    })\n",
    "    \n",
    "top_song_df = pd.DataFrame(top_song_list)\n",
    "top_song_df\n"
   ]
  },
  {
   "cell_type": "code",
   "execution_count": null,
   "metadata": {},
   "outputs": [],
   "source": []
  }
 ],
 "metadata": {
  "kernelspec": {
   "display_name": "Python 3",
   "language": "python",
   "name": "python3"
  },
  "language_info": {
   "codemirror_mode": {
    "name": "ipython",
    "version": 3
   },
   "file_extension": ".py",
   "mimetype": "text/x-python",
   "name": "python",
   "nbconvert_exporter": "python",
   "pygments_lexer": "ipython3",
   "version": "3.7.4"
  }
 },
 "nbformat": 4,
 "nbformat_minor": 2
}
