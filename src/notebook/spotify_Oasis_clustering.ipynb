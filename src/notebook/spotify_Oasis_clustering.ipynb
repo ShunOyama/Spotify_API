{
 "cells": [
  {
   "cell_type": "code",
   "execution_count": 1,
   "id": "05966e34",
   "metadata": {},
   "outputs": [],
   "source": [
    "import pandas as pd \n",
    "import numpy as np\n",
    "\n",
    "import os \n",
    "import sys\n",
    "module_path = os.path.abspath(os.path.join('..'))\n",
    "if module_path not in sys.path:\n",
    "    sys.path.append(module_path)\n",
    "    \n",
    "# My module built with Spotify API and spotipy library\n",
    "from spotify import Spotify\n",
    "\n",
    "from sklearn.preprocessing import StandardScaler\n",
    "from sklearn.decomposition import PCA\n",
    "from sklearn.cluster import KMeans\n",
    "import matplotlib.pyplot as plt \n",
    "import seaborn as sns\n",
    "import plotly.express as px\n",
    "import plotly.io as pio\n",
    "\n",
    "\n",
    "# My own credenctials\n",
    "from utils.config import SpotifyCredectials"
   ]
  },
  {
   "cell_type": "markdown",
   "id": "72d913cb",
   "metadata": {},
   "source": [
    "### Intialize Spotify API with artist Seaching Query"
   ]
  },
  {
   "cell_type": "code",
   "execution_count": 2,
   "id": "b7a644fd",
   "metadata": {},
   "outputs": [],
   "source": [
    "cred = SpotifyCredectials()\n",
    "\n",
    "my_id = cred.my_id\n",
    "my_secret = cred.my_secret\n",
    "\n",
    "spotify = Spotify('Oasis', my_id, my_secret)"
   ]
  },
  {
   "cell_type": "markdown",
   "id": "bbb74d14",
   "metadata": {},
   "source": [
    "### Get data"
   ]
  },
  {
   "cell_type": "code",
   "execution_count": 3,
   "id": "999fc075",
   "metadata": {},
   "outputs": [
    {
     "data": {
      "text/html": [
       "<div>\n",
       "<style scoped>\n",
       "    .dataframe tbody tr th:only-of-type {\n",
       "        vertical-align: middle;\n",
       "    }\n",
       "\n",
       "    .dataframe tbody tr th {\n",
       "        vertical-align: top;\n",
       "    }\n",
       "\n",
       "    .dataframe thead th {\n",
       "        text-align: right;\n",
       "    }\n",
       "</style>\n",
       "<table border=\"1\" class=\"dataframe\">\n",
       "  <thead>\n",
       "    <tr style=\"text-align: right;\">\n",
       "      <th></th>\n",
       "      <th>name</th>\n",
       "      <th>danceability</th>\n",
       "      <th>energy</th>\n",
       "      <th>key</th>\n",
       "      <th>loudness</th>\n",
       "      <th>mode</th>\n",
       "      <th>speechiness</th>\n",
       "      <th>acousticness</th>\n",
       "      <th>instrumentalness</th>\n",
       "      <th>liveness</th>\n",
       "      <th>valence</th>\n",
       "      <th>tempo</th>\n",
       "      <th>duration_ms</th>\n",
       "      <th>time_signature</th>\n",
       "    </tr>\n",
       "  </thead>\n",
       "  <tbody>\n",
       "    <tr>\n",
       "      <th>0</th>\n",
       "      <td>Columbia (Live at Knebworth, 10 August '96)</td>\n",
       "      <td>0.275</td>\n",
       "      <td>0.806</td>\n",
       "      <td>2.0</td>\n",
       "      <td>-4.956</td>\n",
       "      <td>1.0</td>\n",
       "      <td>0.0442</td>\n",
       "      <td>0.000018</td>\n",
       "      <td>0.824</td>\n",
       "      <td>0.979</td>\n",
       "      <td>0.196</td>\n",
       "      <td>99.911</td>\n",
       "      <td>287722.0</td>\n",
       "      <td>4.0</td>\n",
       "    </tr>\n",
       "    <tr>\n",
       "      <th>1</th>\n",
       "      <td>Acquiesce (Live at Knebworth, 10 August '96)</td>\n",
       "      <td>0.260</td>\n",
       "      <td>0.926</td>\n",
       "      <td>7.0</td>\n",
       "      <td>-4.668</td>\n",
       "      <td>1.0</td>\n",
       "      <td>0.0619</td>\n",
       "      <td>0.000009</td>\n",
       "      <td>0.884</td>\n",
       "      <td>0.982</td>\n",
       "      <td>0.253</td>\n",
       "      <td>124.697</td>\n",
       "      <td>236778.0</td>\n",
       "      <td>4.0</td>\n",
       "    </tr>\n",
       "    <tr>\n",
       "      <th>2</th>\n",
       "      <td>Supersonic (Live at Knebworth, 10 August '96)</td>\n",
       "      <td>0.258</td>\n",
       "      <td>0.928</td>\n",
       "      <td>9.0</td>\n",
       "      <td>-4.918</td>\n",
       "      <td>1.0</td>\n",
       "      <td>0.0941</td>\n",
       "      <td>0.000049</td>\n",
       "      <td>0.489</td>\n",
       "      <td>0.985</td>\n",
       "      <td>0.422</td>\n",
       "      <td>122.963</td>\n",
       "      <td>309880.0</td>\n",
       "      <td>4.0</td>\n",
       "    </tr>\n",
       "    <tr>\n",
       "      <th>3</th>\n",
       "      <td>Hello (Live at Knebworth, 11 August '96)</td>\n",
       "      <td>0.119</td>\n",
       "      <td>0.962</td>\n",
       "      <td>5.0</td>\n",
       "      <td>-4.118</td>\n",
       "      <td>1.0</td>\n",
       "      <td>0.0842</td>\n",
       "      <td>0.000018</td>\n",
       "      <td>0.589</td>\n",
       "      <td>0.856</td>\n",
       "      <td>0.150</td>\n",
       "      <td>149.610</td>\n",
       "      <td>175536.0</td>\n",
       "      <td>4.0</td>\n",
       "    </tr>\n",
       "    <tr>\n",
       "      <th>4</th>\n",
       "      <td>Some Might Say (Live at Knebworth, 11 August '96)</td>\n",
       "      <td>0.168</td>\n",
       "      <td>0.869</td>\n",
       "      <td>2.0</td>\n",
       "      <td>-4.122</td>\n",
       "      <td>1.0</td>\n",
       "      <td>0.0736</td>\n",
       "      <td>0.000009</td>\n",
       "      <td>0.458</td>\n",
       "      <td>0.921</td>\n",
       "      <td>0.177</td>\n",
       "      <td>123.259</td>\n",
       "      <td>304629.0</td>\n",
       "      <td>4.0</td>\n",
       "    </tr>\n",
       "  </tbody>\n",
       "</table>\n",
       "</div>"
      ],
      "text/plain": [
       "                                                name  danceability  energy  \\\n",
       "0        Columbia (Live at Knebworth, 10 August '96)         0.275   0.806   \n",
       "1       Acquiesce (Live at Knebworth, 10 August '96)         0.260   0.926   \n",
       "2      Supersonic (Live at Knebworth, 10 August '96)         0.258   0.928   \n",
       "3           Hello (Live at Knebworth, 11 August '96)         0.119   0.962   \n",
       "4  Some Might Say (Live at Knebworth, 11 August '96)         0.168   0.869   \n",
       "\n",
       "   key  loudness  mode  speechiness  acousticness  instrumentalness  liveness  \\\n",
       "0  2.0    -4.956   1.0       0.0442      0.000018             0.824     0.979   \n",
       "1  7.0    -4.668   1.0       0.0619      0.000009             0.884     0.982   \n",
       "2  9.0    -4.918   1.0       0.0941      0.000049             0.489     0.985   \n",
       "3  5.0    -4.118   1.0       0.0842      0.000018             0.589     0.856   \n",
       "4  2.0    -4.122   1.0       0.0736      0.000009             0.458     0.921   \n",
       "\n",
       "   valence    tempo  duration_ms  time_signature  \n",
       "0    0.196   99.911     287722.0             4.0  \n",
       "1    0.253  124.697     236778.0             4.0  \n",
       "2    0.422  122.963     309880.0             4.0  \n",
       "3    0.150  149.610     175536.0             4.0  \n",
       "4    0.177  123.259     304629.0             4.0  "
      ]
     },
     "execution_count": 3,
     "metadata": {},
     "output_type": "execute_result"
    }
   ],
   "source": [
    "# Get top 100 of Oasis audio feature data\n",
    "\n",
    "n_top_tracks = 100\n",
    "\n",
    "filtered_top_tracks_df = spotify.filter_by_popularity(n_top_tracks = n_top_tracks)\n",
    "filtered_top_tracks_df.head()"
   ]
  },
  {
   "cell_type": "markdown",
   "id": "ffd45aba",
   "metadata": {},
   "source": [
    "### Apply PCA(Principle Component Analysis)"
   ]
  },
  {
   "cell_type": "code",
   "execution_count": 4,
   "id": "df82176f",
   "metadata": {},
   "outputs": [
    {
     "data": {
      "image/png": "[encoded data removed]",
      "text/plain": [
       "<Figure size 432x432 with 1 Axes>"
      ]
     },
     "metadata": {
      "needs_background": "light"
     },
     "output_type": "display_data"
    }
   ],
   "source": [
    "scaled_df_for_pca = spotify.standard_scaling(filtered_top_tracks_df[filtered_top_tracks_df.columns[1:]])\n",
    "\n",
    "n_components = 2\n",
    "\n",
    "pca = PCA(n_components=n_components)\n",
    "pca.fit(scaled_df_for_pca)\n",
    "feature = pca.transform(scaled_df_for_pca)\n",
    "pca_df = pd.DataFrame(feature, columns=[\"PC{}\".format(x + 1) for x in range(n_components)])\n",
    "\n",
    "\n",
    "plt.figure(figsize=(6, 6))\n",
    "plt.scatter(feature[:, 0], feature[:, 1], alpha=0.8)\n",
    "plt.grid()\n",
    "plt.xlabel(\"PC1\")\n",
    "plt.ylabel(\"PC2\")\n",
    "plt.show()"
   ]
  },
  {
   "cell_type": "code",
   "execution_count": 5,
   "id": "a5e1c133",
   "metadata": {},
   "outputs": [
    {
     "data": {
      "text/html": [
       "<div>\n",
       "<style scoped>\n",
       "    .dataframe tbody tr th:only-of-type {\n",
       "        vertical-align: middle;\n",
       "    }\n",
       "\n",
       "    .dataframe tbody tr th {\n",
       "        vertical-align: top;\n",
       "    }\n",
       "\n",
       "    .dataframe thead th {\n",
       "        text-align: right;\n",
       "    }\n",
       "</style>\n",
       "<table border=\"1\" class=\"dataframe\">\n",
       "  <thead>\n",
       "    <tr style=\"text-align: right;\">\n",
       "      <th></th>\n",
       "      <th>danceability</th>\n",
       "      <th>energy</th>\n",
       "      <th>key</th>\n",
       "      <th>loudness</th>\n",
       "      <th>mode</th>\n",
       "      <th>speechiness</th>\n",
       "      <th>acousticness</th>\n",
       "      <th>instrumentalness</th>\n",
       "      <th>liveness</th>\n",
       "      <th>valence</th>\n",
       "      <th>tempo</th>\n",
       "      <th>duration_ms</th>\n",
       "      <th>time_signature</th>\n",
       "    </tr>\n",
       "  </thead>\n",
       "  <tbody>\n",
       "    <tr>\n",
       "      <th>PC1</th>\n",
       "      <td>0.432312</td>\n",
       "      <td>-0.395074</td>\n",
       "      <td>-0.06397</td>\n",
       "      <td>-0.144969</td>\n",
       "      <td>0.139835</td>\n",
       "      <td>-0.455339</td>\n",
       "      <td>0.315903</td>\n",
       "      <td>-0.320275</td>\n",
       "      <td>-0.325107</td>\n",
       "      <td>0.276032</td>\n",
       "      <td>-0.083347</td>\n",
       "      <td>-0.110098</td>\n",
       "      <td>-0.041225</td>\n",
       "    </tr>\n",
       "    <tr>\n",
       "      <th>PC2</th>\n",
       "      <td>-0.150726</td>\n",
       "      <td>-0.358505</td>\n",
       "      <td>-0.15227</td>\n",
       "      <td>-0.584047</td>\n",
       "      <td>-0.039534</td>\n",
       "      <td>-0.056262</td>\n",
       "      <td>0.219475</td>\n",
       "      <td>0.354276</td>\n",
       "      <td>0.439095</td>\n",
       "      <td>-0.099379</td>\n",
       "      <td>-0.297198</td>\n",
       "      <td>0.054165</td>\n",
       "      <td>-0.110040</td>\n",
       "    </tr>\n",
       "  </tbody>\n",
       "</table>\n",
       "</div>"
      ],
      "text/plain": [
       "     danceability    energy      key  loudness      mode  speechiness  \\\n",
       "PC1      0.432312 -0.395074 -0.06397 -0.144969  0.139835    -0.455339   \n",
       "PC2     -0.150726 -0.358505 -0.15227 -0.584047 -0.039534    -0.056262   \n",
       "\n",
       "     acousticness  instrumentalness  liveness   valence     tempo  \\\n",
       "PC1      0.315903         -0.320275 -0.325107  0.276032 -0.083347   \n",
       "PC2      0.219475          0.354276  0.439095 -0.099379 -0.297198   \n",
       "\n",
       "     duration_ms  time_signature  \n",
       "PC1    -0.110098       -0.041225  \n",
       "PC2     0.054165       -0.110040  "
      ]
     },
     "execution_count": 5,
     "metadata": {},
     "output_type": "execute_result"
    }
   ],
   "source": [
    "pd.DataFrame(pca.components_, columns=filtered_top_tracks_df.columns[1:], index=[\"PC{}\".format(x + 1) for x in range(n_components)])"
   ]
  },
  {
   "cell_type": "code",
   "execution_count": 6,
   "id": "c6b9b906",
   "metadata": {
    "scrolled": true
   },
   "outputs": [
    {
     "data": {
      "image/png": "[encoded data removed]",
      "text/plain": [
       "<Figure size 432x432 with 1 Axes>"
      ]
     },
     "metadata": {
      "needs_background": "light"
     },
     "output_type": "display_data"
    }
   ],
   "source": [
    "plt.figure(figsize=(6, 6))\n",
    "for x, y, name in zip(pca.components_[0], pca.components_[1], filtered_top_tracks_df.columns[1:]):\n",
    "    plt.text(x, y, name)\n",
    "plt.scatter(pca.components_[0], pca.components_[1], alpha=0.8)\n",
    "plt.grid()\n",
    "plt.xlabel(\"PC1\")\n",
    "plt.ylabel(\"PC2\")\n",
    "plt.show()"
   ]
  },
  {
   "cell_type": "markdown",
   "id": "1b72d67b",
   "metadata": {},
   "source": [
    "### Apply KMeans clustering model"
   ]
  },
  {
   "cell_type": "code",
   "execution_count": 7,
   "id": "1e85bdd5",
   "metadata": {
    "scrolled": true
   },
   "outputs": [
    {
     "data": {
      "text/html": [
       "<div>\n",
       "<style scoped>\n",
       "    .dataframe tbody tr th:only-of-type {\n",
       "        vertical-align: middle;\n",
       "    }\n",
       "\n",
       "    .dataframe tbody tr th {\n",
       "        vertical-align: top;\n",
       "    }\n",
       "\n",
       "    .dataframe thead th {\n",
       "        text-align: right;\n",
       "    }\n",
       "</style>\n",
       "<table border=\"1\" class=\"dataframe\">\n",
       "  <thead>\n",
       "    <tr style=\"text-align: right;\">\n",
       "      <th></th>\n",
       "      <th>name</th>\n",
       "      <th>PC1</th>\n",
       "      <th>PC2</th>\n",
       "      <th>cluster</th>\n",
       "    </tr>\n",
       "  </thead>\n",
       "  <tbody>\n",
       "    <tr>\n",
       "      <th>0</th>\n",
       "      <td>Columbia (Live at Knebworth, 10 August '96)</td>\n",
       "      <td>-0.560811</td>\n",
       "      <td>2.139739</td>\n",
       "      <td>0</td>\n",
       "    </tr>\n",
       "    <tr>\n",
       "      <th>1</th>\n",
       "      <td>Acquiesce (Live at Knebworth, 10 August '96)</td>\n",
       "      <td>-1.364584</td>\n",
       "      <td>1.172272</td>\n",
       "      <td>0</td>\n",
       "    </tr>\n",
       "    <tr>\n",
       "      <th>2</th>\n",
       "      <td>Supersonic (Live at Knebworth, 10 August '96)</td>\n",
       "      <td>-1.318836</td>\n",
       "      <td>0.657562</td>\n",
       "      <td>0</td>\n",
       "    </tr>\n",
       "    <tr>\n",
       "      <th>3</th>\n",
       "      <td>Hello (Live at Knebworth, 11 August '96)</td>\n",
       "      <td>-2.142437</td>\n",
       "      <td>0.343657</td>\n",
       "      <td>0</td>\n",
       "    </tr>\n",
       "    <tr>\n",
       "      <th>4</th>\n",
       "      <td>Some Might Say (Live at Knebworth, 11 August '96)</td>\n",
       "      <td>-1.438043</td>\n",
       "      <td>0.999690</td>\n",
       "      <td>0</td>\n",
       "    </tr>\n",
       "  </tbody>\n",
       "</table>\n",
       "</div>"
      ],
      "text/plain": [
       "                                                name       PC1       PC2  \\\n",
       "0        Columbia (Live at Knebworth, 10 August '96) -0.560811  2.139739   \n",
       "1       Acquiesce (Live at Knebworth, 10 August '96) -1.364584  1.172272   \n",
       "2      Supersonic (Live at Knebworth, 10 August '96) -1.318836  0.657562   \n",
       "3           Hello (Live at Knebworth, 11 August '96) -2.142437  0.343657   \n",
       "4  Some Might Say (Live at Knebworth, 11 August '96) -1.438043  0.999690   \n",
       "\n",
       "   cluster  \n",
       "0        0  \n",
       "1        0  \n",
       "2        0  \n",
       "3        0  \n",
       "4        0  "
      ]
     },
     "execution_count": 7,
     "metadata": {},
     "output_type": "execute_result"
    }
   ],
   "source": [
    "model = KMeans(n_clusters=3, random_state=1)\n",
    "model.fit(pca_df)\n",
    "cluster = model.labels_\n",
    "pca_df['cluster'] = cluster\n",
    "pca_df.insert(0, 'name', filtered_top_tracks_df['name'])\n",
    "pca_df.head()"
   ]
  },
  {
   "cell_type": "code",
   "execution_count": 8,
   "id": "f6f54315",
   "metadata": {},
   "outputs": [
    {
     "data": {
      "image/svg+xml": [
       "<svg class=\"main-svg\" xmlns=\"http://www.w3.org/2000/svg\" xmlns:xlink=\"http://www.w3.org/1999/xlink\" width=\"700\" height=\"500\" style=\"\" viewBox=\"0 0 700 500\"><rect x=\"0\" y=\"0\" width=\"700\" height=\"500\" style=\"fill: rgb(255, 255, 255); fill-opacity: 1;\"/><defs id=\"defs-89050e\"><g class=\"clips\"><clipPath id=\"clip89050exyplot\" class=\"plotclip\"><rect width=\"528\" height=\"360\"/></clipPath><clipPath class=\"axesclip\" id=\"clip89050ex\"><rect x=\"80\" y=\"0\" width=\"528\" height=\"500\"/></clipPath><clipPath class=\"axesclip\" id=\"clip89050ey\"><rect x=\"0\" y=\"60\" width=\"700\" height=\"360\"/></clipPath><clipPath class=\"axesclip\" id=\"clip89050exy\"><rect x=\"80\" y=\"60\" width=\"528\" height=\"360\"/></clipPath></g><g class=\"gradients\"><linearGradient x1=\"0\" x2=\"0\" y1=\"1\" y2=\"0\" id=\"g89050e-cbcoloraxis\"><stop offset=\"0%\" stop-color=\"rgb(13, 8, 135)\" stop-opacity=\"1\"/><stop offset=\"11.111111%\" stop-color=\"rgb(70, 3, 159)\" stop-opacity=\"1\"/><stop offset=\"22.222222%\" stop-color=\"rgb(114, 1, 168)\" stop-opacity=\"1\"/><stop offset=\"33.333333%\" stop-color=\"rgb(156, 23, 158)\" stop-opacity=\"1\"/><stop offset=\"44.444444%\" stop-color=\"rgb(189, 55, 134)\" stop-opacity=\"1\"/><stop offset=\"55.555556%\" stop-color=\"rgb(216, 87, 107)\" stop-opacity=\"1\"/><stop offset=\"66.666667%\" stop-color=\"rgb(237, 121, 83)\" stop-opacity=\"1\"/><stop offset=\"77.777778%\" stop-color=\"rgb(251, 159, 58)\" stop-opacity=\"1\"/><stop offset=\"88.888889%\" stop-color=\"rgb(253, 202, 38)\" stop-opacity=\"1\"/><stop offset=\"100%\" stop-color=\"rgb(240, 249, 33)\" stop-opacity=\"1\"/></linearGradient></g><g class=\"patterns\"/></defs><g class=\"bglayer\"><rect class=\"bg\" x=\"80\" y=\"60\" width=\"528\" height=\"360\" style=\"fill: rgb(229, 236, 246); fill-opacity: 1; stroke-width: 0;\"/></g><g class=\"layer-below\"><g class=\"imagelayer\"/><g class=\"shapelayer\"/></g><g class=\"cartesianlayer\"><g class=\"subplot xy\"><g class=\"layer-subplot\"><g class=\"shapelayer\"/><g class=\"imagelayer\"/></g><g class=\"gridlayer\"><g class=\"x\"><path class=\"xgrid crisp\" transform=\"translate(91.71000000000001,0)\" d=\"M0,60v360\" style=\"stroke: rgb(255, 255, 255); stroke-opacity: 1; stroke-width: 1px;\"/><path class=\"xgrid crisp\" transform=\"translate(200.49,0)\" d=\"M0,60v360\" style=\"stroke: rgb(255, 255, 255); stroke-opacity: 1; stroke-width: 1px;\"/><path class=\"xgrid crisp\" transform=\"translate(418.06,0)\" d=\"M0,60v360\" style=\"stroke: rgb(255, 255, 255); stroke-opacity: 1; stroke-width: 1px;\"/><path class=\"xgrid crisp\" transform=\"translate(526.85,0)\" d=\"M0,60v360\" style=\"stroke: rgb(255, 255, 255); stroke-opacity: 1; stroke-width: 1px;\"/></g><g class=\"y\"><path class=\"ygrid crisp\" transform=\"translate(0,374.09)\" d=\"M80,0h528\" style=\"stroke: rgb(255, 255, 255); stroke-opacity: 1; stroke-width: 1px;\"/><path class=\"ygrid crisp\" transform=\"translate(0,324.15)\" d=\"M80,0h528\" style=\"stroke: rgb(255, 255, 255); stroke-opacity: 1; stroke-width: 1px;\"/><path class=\"ygrid crisp\" transform=\"translate(0,224.27)\" d=\"M80,0h528\" style=\"stroke: rgb(255, 255, 255); stroke-opacity: 1; stroke-width: 1px;\"/><path class=\"ygrid crisp\" transform=\"translate(0,174.32999999999998)\" d=\"M80,0h528\" style=\"stroke: rgb(255, 255, 255); stroke-opacity: 1; stroke-width: 1px;\"/><path class=\"ygrid crisp\" transform=\"translate(0,124.39)\" d=\"M80,0h528\" style=\"stroke: rgb(255, 255, 255); stroke-opacity: 1; stroke-width: 1px;\"/><path class=\"ygrid crisp\" transform=\"translate(0,74.45)\" d=\"M80,0h528\" style=\"stroke: rgb(255, 255, 255); stroke-opacity: 1; stroke-width: 1px;\"/></g></g><g class=\"zerolinelayer\"><path class=\"xzl zl crisp\" transform=\"translate(309.28,0)\" d=\"M0,60v360\" style=\"stroke: rgb(255, 255, 255); stroke-opacity: 1; stroke-width: 2px;\"/><path class=\"yzl zl crisp\" transform=\"translate(0,274.21000000000004)\" d=\"M80,0h528\" style=\"stroke: rgb(255, 255, 255); stroke-opacity: 1; stroke-width: 2px;\"/></g><path class=\"xlines-below\"/><path class=\"ylines-below\"/><g class=\"overlines-below\"/><g class=\"xaxislayer-below\"/><g class=\"yaxislayer-below\"/><g class=\"overaxes-below\"/><g class=\"plot\" transform=\"translate(80,60)\" clip-path=\"url(#clip89050exyplot)\"><g class=\"scatterlayer mlayer\"><g class=\"trace scatter trace4cc156\" style=\"stroke-miterlimit: 2; opacity: 1;\"><g class=\"fills\"/><g class=\"errorbars\"/><g class=\"lines\"/><g class=\"points\"><path class=\"point plotly-customdata\" transform=\"translate(198.78,107.35)\" d=\"M3,0A3,3 0 1,1 0,-3A3,3 0 0,1 3,0Z\" style=\"opacity: 1; stroke-width: 0px; fill: rgb(13, 8, 135); fill-opacity: 1;\"/><path class=\"point plotly-customdata\" transform=\"translate(155.06,155.67)\" d=\"M3,0A3,3 0 1,1 0,-3A3,3 0 0,1 3,0Z\" style=\"opacity: 1; stroke-width: 0px; fill: rgb(13, 8, 135); fill-opacity: 1;\"/><path class=\"point plotly-customdata\" transform=\"translate(157.54,181.37)\" d=\"M3,0A3,3 0 1,1 0,-3A3,3 0 0,1 3,0Z\" style=\"opacity: 1; stroke-width: 0px; fill: rgb(13, 8, 135); fill-opacity: 1;\"/><path class=\"point plotly-customdata\" transform=\"translate(112.75,197.05)\" d=\"M3,0A3,3 0 1,1 0,-3A3,3 0 0,1 3,0Z\" style=\"opacity: 1; stroke-width: 0px; fill: rgb(13, 8, 135); fill-opacity: 1;\"/><path class=\"point plotly-customdata\" transform=\"translate(151.06,164.28)\" d=\"M3,0A3,3 0 1,1 0,-3A3,3 0 0,1 3,0Z\" style=\"opacity: 1; stroke-width: 0px; fill: rgb(13, 8, 135); fill-opacity: 1;\"/><path class=\"point plotly-customdata\" transform=\"translate(90.18,150.09)\" d=\"M3,0A3,3 0 1,1 0,-3A3,3 0 0,1 3,0Z\" style=\"opacity: 1; stroke-width: 0px; fill: rgb(13, 8, 135); fill-opacity: 1;\"/><path class=\"point plotly-customdata\" transform=\"translate(119.74,139.92)\" d=\"M3,0A3,3 0 1,1 0,-3A3,3 0 0,1 3,0Z\" style=\"opacity: 1; stroke-width: 0px; fill: rgb(13, 8, 135); fill-opacity: 1;\"/><path class=\"point plotly-customdata\" transform=\"translate(99.23,176.07)\" d=\"M3,0A3,3 0 1,1 0,-3A3,3 0 0,1 3,0Z\" style=\"opacity: 1; stroke-width: 0px; fill: rgb(13, 8, 135); fill-opacity: 1;\"/><path class=\"point plotly-customdata\" transform=\"translate(101.96,191.24)\" d=\"M3,0A3,3 0 1,1 0,-3A3,3 0 0,1 3,0Z\" style=\"opacity: 1; stroke-width: 0px; fill: rgb(13, 8, 135); fill-opacity: 1;\"/><path class=\"point plotly-customdata\" transform=\"translate(166.78,215.55)\" d=\"M3,0A3,3 0 1,1 0,-3A3,3 0 0,1 3,0Z\" style=\"opacity: 1; stroke-width: 0px; fill: rgb(13, 8, 135); fill-opacity: 1;\"/><path class=\"point plotly-customdata\" transform=\"translate(322.91,136.66)\" d=\"M3,0A3,3 0 1,1 0,-3A3,3 0 0,1 3,0Z\" style=\"opacity: 1; stroke-width: 0px; fill: rgb(203, 71, 121); fill-opacity: 1;\"/><path class=\"point plotly-customdata\" transform=\"translate(253.1,163.99)\" d=\"M3,0A3,3 0 1,1 0,-3A3,3 0 0,1 3,0Z\" style=\"opacity: 1; stroke-width: 0px; fill: rgb(203, 71, 121); fill-opacity: 1;\"/><path class=\"point plotly-customdata\" transform=\"translate(241.31,166.5)\" d=\"M3,0A3,3 0 1,1 0,-3A3,3 0 0,1 3,0Z\" style=\"opacity: 1; stroke-width: 0px; fill: rgb(13, 8, 135); fill-opacity: 1;\"/><path class=\"point plotly-customdata\" transform=\"translate(287.16,99.6)\" d=\"M3,0A3,3 0 1,1 0,-3A3,3 0 0,1 3,0Z\" style=\"opacity: 1; stroke-width: 0px; fill: rgb(203, 71, 121); fill-opacity: 1;\"/><path class=\"point plotly-customdata\" transform=\"translate(137.95,109.62)\" d=\"M3,0A3,3 0 1,1 0,-3A3,3 0 0,1 3,0Z\" style=\"opacity: 1; stroke-width: 0px; fill: rgb(13, 8, 135); fill-opacity: 1;\"/><path class=\"point plotly-customdata\" transform=\"translate(163.51,180.03)\" d=\"M3,0A3,3 0 1,1 0,-3A3,3 0 0,1 3,0Z\" style=\"opacity: 1; stroke-width: 0px; fill: rgb(13, 8, 135); fill-opacity: 1;\"/><path class=\"point plotly-customdata\" transform=\"translate(191.45,205.26)\" d=\"M3,0A3,3 0 1,1 0,-3A3,3 0 0,1 3,0Z\" style=\"opacity: 1; stroke-width: 0px; fill: rgb(13, 8, 135); fill-opacity: 1;\"/><path class=\"point plotly-customdata\" transform=\"translate(70.25,134.59)\" d=\"M3,0A3,3 0 1,1 0,-3A3,3 0 0,1 3,0Z\" style=\"opacity: 1; stroke-width: 0px; fill: rgb(13, 8, 135); fill-opacity: 1;\"/><path class=\"point plotly-customdata\" transform=\"translate(158.36,134.19)\" d=\"M3,0A3,3 0 1,1 0,-3A3,3 0 0,1 3,0Z\" style=\"opacity: 1; stroke-width: 0px; fill: rgb(13, 8, 135); fill-opacity: 1;\"/><path class=\"point plotly-customdata\" transform=\"translate(30.15,130.01)\" d=\"M3,0A3,3 0 1,1 0,-3A3,3 0 0,1 3,0Z\" style=\"opacity: 1; stroke-width: 0px; fill: rgb(13, 8, 135); fill-opacity: 1;\"/><path class=\"point plotly-customdata\" transform=\"translate(255.44,267.27)\" d=\"M3,0A3,3 0 1,1 0,-3A3,3 0 0,1 3,0Z\" style=\"opacity: 1; stroke-width: 0px; fill: rgb(240, 249, 33); fill-opacity: 1;\"/><path class=\"point plotly-customdata\" transform=\"translate(257.67,306.29)\" d=\"M3,0A3,3 0 1,1 0,-3A3,3 0 0,1 3,0Z\" style=\"opacity: 1; stroke-width: 0px; fill: rgb(240, 249, 33); fill-opacity: 1;\"/><path class=\"point plotly-customdata\" transform=\"translate(356.29,205.78)\" d=\"M3,0A3,3 0 1,1 0,-3A3,3 0 0,1 3,0Z\" style=\"opacity: 1; stroke-width: 0px; fill: rgb(203, 71, 121); fill-opacity: 1;\"/><path class=\"point plotly-customdata\" transform=\"translate(148.15,326.29)\" d=\"M3,0A3,3 0 1,1 0,-3A3,3 0 0,1 3,0Z\" style=\"opacity: 1; stroke-width: 0px; fill: rgb(240, 249, 33); fill-opacity: 1;\"/><path class=\"point plotly-customdata\" transform=\"translate(270.13,303.39)\" d=\"M3,0A3,3 0 1,1 0,-3A3,3 0 0,1 3,0Z\" style=\"opacity: 1; stroke-width: 0px; fill: rgb(240, 249, 33); fill-opacity: 1;\"/><path class=\"point plotly-customdata\" transform=\"translate(307.5,286.2)\" d=\"M3,0A3,3 0 1,1 0,-3A3,3 0 0,1 3,0Z\" style=\"opacity: 1; stroke-width: 0px; fill: rgb(240, 249, 33); fill-opacity: 1;\"/><path class=\"point plotly-customdata\" transform=\"translate(465.02,51.56)\" d=\"M3,0A3,3 0 1,1 0,-3A3,3 0 0,1 3,0Z\" style=\"opacity: 1; stroke-width: 0px; fill: rgb(203, 71, 121); fill-opacity: 1;\"/><path class=\"point plotly-customdata\" transform=\"translate(332.36,155.95)\" d=\"M3,0A3,3 0 1,1 0,-3A3,3 0 0,1 3,0Z\" style=\"opacity: 1; stroke-width: 0px; fill: rgb(203, 71, 121); fill-opacity: 1;\"/><path class=\"point plotly-customdata\" transform=\"translate(178.7,276.99)\" d=\"M3,0A3,3 0 1,1 0,-3A3,3 0 0,1 3,0Z\" style=\"opacity: 1; stroke-width: 0px; fill: rgb(240, 249, 33); fill-opacity: 1;\"/><path class=\"point plotly-customdata\" transform=\"translate(153.14,146.82)\" d=\"M3,0A3,3 0 1,1 0,-3A3,3 0 0,1 3,0Z\" style=\"opacity: 1; stroke-width: 0px; fill: rgb(13, 8, 135); fill-opacity: 1;\"/><path class=\"point plotly-customdata\" transform=\"translate(243.94,280.48)\" d=\"M3,0A3,3 0 1,1 0,-3A3,3 0 0,1 3,0Z\" style=\"opacity: 1; stroke-width: 0px; fill: rgb(240, 249, 33); fill-opacity: 1;\"/><path class=\"point plotly-customdata\" transform=\"translate(232.29,220.29)\" d=\"M3,0A3,3 0 1,1 0,-3A3,3 0 0,1 3,0Z\" style=\"opacity: 1; stroke-width: 0px; fill: rgb(240, 249, 33); fill-opacity: 1;\"/><path class=\"point plotly-customdata\" transform=\"translate(280.35,256.81)\" d=\"M3,0A3,3 0 1,1 0,-3A3,3 0 0,1 3,0Z\" style=\"opacity: 1; stroke-width: 0px; fill: rgb(240, 249, 33); fill-opacity: 1;\"/><path class=\"point plotly-customdata\" transform=\"translate(252.7,164.34)\" d=\"M3,0A3,3 0 1,1 0,-3A3,3 0 0,1 3,0Z\" style=\"opacity: 1; stroke-width: 0px; fill: rgb(203, 71, 121); fill-opacity: 1;\"/><path class=\"point plotly-customdata\" transform=\"translate(270.02,251.63)\" d=\"M3,0A3,3 0 1,1 0,-3A3,3 0 0,1 3,0Z\" style=\"opacity: 1; stroke-width: 0px; fill: rgb(240, 249, 33); fill-opacity: 1;\"/><path class=\"point plotly-customdata\" transform=\"translate(141.35,176.6)\" d=\"M3,0A3,3 0 1,1 0,-3A3,3 0 0,1 3,0Z\" style=\"opacity: 1; stroke-width: 0px; fill: rgb(13, 8, 135); fill-opacity: 1;\"/><path class=\"point plotly-customdata\" transform=\"translate(326.21,180.76)\" d=\"M3,0A3,3 0 1,1 0,-3A3,3 0 0,1 3,0Z\" style=\"opacity: 1; stroke-width: 0px; fill: rgb(203, 71, 121); fill-opacity: 1;\"/><path class=\"point plotly-customdata\" transform=\"translate(286.52,277.8)\" d=\"M3,0A3,3 0 1,1 0,-3A3,3 0 0,1 3,0Z\" style=\"opacity: 1; stroke-width: 0px; fill: rgb(240, 249, 33); fill-opacity: 1;\"/><path class=\"point plotly-customdata\" transform=\"translate(162.85,214.16)\" d=\"M3,0A3,3 0 1,1 0,-3A3,3 0 0,1 3,0Z\" style=\"opacity: 1; stroke-width: 0px; fill: rgb(13, 8, 135); fill-opacity: 1;\"/><path class=\"point plotly-customdata\" transform=\"translate(302.02,269.38)\" d=\"M3,0A3,3 0 1,1 0,-3A3,3 0 0,1 3,0Z\" style=\"opacity: 1; stroke-width: 0px; fill: rgb(240, 249, 33); fill-opacity: 1;\"/><path class=\"point plotly-customdata\" transform=\"translate(199.84,106.6)\" d=\"M3,0A3,3 0 1,1 0,-3A3,3 0 0,1 3,0Z\" style=\"opacity: 1; stroke-width: 0px; fill: rgb(13, 8, 135); fill-opacity: 1;\"/><path class=\"point plotly-customdata\" transform=\"translate(234.03,247.69)\" d=\"M3,0A3,3 0 1,1 0,-3A3,3 0 0,1 3,0Z\" style=\"opacity: 1; stroke-width: 0px; fill: rgb(240, 249, 33); fill-opacity: 1;\"/><path class=\"point plotly-customdata\" transform=\"translate(260.71,299.71)\" d=\"M3,0A3,3 0 1,1 0,-3A3,3 0 0,1 3,0Z\" style=\"opacity: 1; stroke-width: 0px; fill: rgb(240, 249, 33); fill-opacity: 1;\"/><path class=\"point plotly-customdata\" transform=\"translate(261.83,300.43)\" d=\"M3,0A3,3 0 1,1 0,-3A3,3 0 0,1 3,0Z\" style=\"opacity: 1; stroke-width: 0px; fill: rgb(240, 249, 33); fill-opacity: 1;\"/><path class=\"point plotly-customdata\" transform=\"translate(153.82,115.11)\" d=\"M3,0A3,3 0 1,1 0,-3A3,3 0 0,1 3,0Z\" style=\"opacity: 1; stroke-width: 0px; fill: rgb(13, 8, 135); fill-opacity: 1;\"/><path class=\"point plotly-customdata\" transform=\"translate(266.43,291.78)\" d=\"M3,0A3,3 0 1,1 0,-3A3,3 0 0,1 3,0Z\" style=\"opacity: 1; stroke-width: 0px; fill: rgb(240, 249, 33); fill-opacity: 1;\"/><path class=\"point plotly-customdata\" transform=\"translate(246.7,301.45)\" d=\"M3,0A3,3 0 1,1 0,-3A3,3 0 0,1 3,0Z\" style=\"opacity: 1; stroke-width: 0px; fill: rgb(240, 249, 33); fill-opacity: 1;\"/><path class=\"point plotly-customdata\" transform=\"translate(319.3,213.99)\" d=\"M3,0A3,3 0 1,1 0,-3A3,3 0 0,1 3,0Z\" style=\"opacity: 1; stroke-width: 0px; fill: rgb(203, 71, 121); fill-opacity: 1;\"/><path class=\"point plotly-customdata\" transform=\"translate(126.51,208.97)\" d=\"M3,0A3,3 0 1,1 0,-3A3,3 0 0,1 3,0Z\" style=\"opacity: 1; stroke-width: 0px; fill: rgb(13, 8, 135); fill-opacity: 1;\"/><path class=\"point plotly-customdata\" transform=\"translate(133.31,285.35)\" d=\"M3,0A3,3 0 1,1 0,-3A3,3 0 0,1 3,0Z\" style=\"opacity: 1; stroke-width: 0px; fill: rgb(240, 249, 33); fill-opacity: 1;\"/><path class=\"point plotly-customdata\" transform=\"translate(173.14,306.27)\" d=\"M3,0A3,3 0 1,1 0,-3A3,3 0 0,1 3,0Z\" style=\"opacity: 1; stroke-width: 0px; fill: rgb(240, 249, 33); fill-opacity: 1;\"/><path class=\"point plotly-customdata\" transform=\"translate(37.27,131.87)\" d=\"M3,0A3,3 0 1,1 0,-3A3,3 0 0,1 3,0Z\" style=\"opacity: 1; stroke-width: 0px; fill: rgb(13, 8, 135); fill-opacity: 1;\"/><path class=\"point plotly-customdata\" transform=\"translate(216.64,285.85)\" d=\"M3,0A3,3 0 1,1 0,-3A3,3 0 0,1 3,0Z\" style=\"opacity: 1; stroke-width: 0px; fill: rgb(240, 249, 33); fill-opacity: 1;\"/><path class=\"point plotly-customdata\" transform=\"translate(329.14,143.63)\" d=\"M3,0A3,3 0 1,1 0,-3A3,3 0 0,1 3,0Z\" style=\"opacity: 1; stroke-width: 0px; fill: rgb(203, 71, 121); fill-opacity: 1;\"/><path class=\"point plotly-customdata\" transform=\"translate(189,204.9)\" d=\"M3,0A3,3 0 1,1 0,-3A3,3 0 0,1 3,0Z\" style=\"opacity: 1; stroke-width: 0px; fill: rgb(13, 8, 135); fill-opacity: 1;\"/><path class=\"point plotly-customdata\" transform=\"translate(435.16,119.89)\" d=\"M3,0A3,3 0 1,1 0,-3A3,3 0 0,1 3,0Z\" style=\"opacity: 1; stroke-width: 0px; fill: rgb(203, 71, 121); fill-opacity: 1;\"/><path class=\"point plotly-customdata\" transform=\"translate(205.92,260.87)\" d=\"M3,0A3,3 0 1,1 0,-3A3,3 0 0,1 3,0Z\" style=\"opacity: 1; stroke-width: 0px; fill: rgb(240, 249, 33); fill-opacity: 1;\"/><path class=\"point plotly-customdata\" transform=\"translate(102.3,143.74)\" d=\"M3,0A3,3 0 1,1 0,-3A3,3 0 0,1 3,0Z\" style=\"opacity: 1; stroke-width: 0px; fill: rgb(13, 8, 135); fill-opacity: 1;\"/><path class=\"point plotly-customdata\" transform=\"translate(208.64,266.85)\" d=\"M3,0A3,3 0 1,1 0,-3A3,3 0 0,1 3,0Z\" style=\"opacity: 1; stroke-width: 0px; fill: rgb(240, 249, 33); fill-opacity: 1;\"/><path class=\"point plotly-customdata\" transform=\"translate(340.95,309.47)\" d=\"M3,0A3,3 0 1,1 0,-3A3,3 0 0,1 3,0Z\" style=\"opacity: 1; stroke-width: 0px; fill: rgb(240, 249, 33); fill-opacity: 1;\"/><path class=\"point plotly-customdata\" transform=\"translate(254.44,338.25)\" d=\"M3,0A3,3 0 1,1 0,-3A3,3 0 0,1 3,0Z\" style=\"opacity: 1; stroke-width: 0px; fill: rgb(240, 249, 33); fill-opacity: 1;\"/><path class=\"point plotly-customdata\" transform=\"translate(170.18,269.07)\" d=\"M3,0A3,3 0 1,1 0,-3A3,3 0 0,1 3,0Z\" style=\"opacity: 1; stroke-width: 0px; fill: rgb(240, 249, 33); fill-opacity: 1;\"/><path class=\"point plotly-customdata\" transform=\"translate(96.89,182.23)\" d=\"M3,0A3,3 0 1,1 0,-3A3,3 0 0,1 3,0Z\" style=\"opacity: 1; stroke-width: 0px; fill: rgb(13, 8, 135); fill-opacity: 1;\"/><path class=\"point plotly-customdata\" transform=\"translate(195.21,262.6)\" d=\"M3,0A3,3 0 1,1 0,-3A3,3 0 0,1 3,0Z\" style=\"opacity: 1; stroke-width: 0px; fill: rgb(240, 249, 33); fill-opacity: 1;\"/><path class=\"point plotly-customdata\" transform=\"translate(152.7,176.11)\" d=\"M3,0A3,3 0 1,1 0,-3A3,3 0 0,1 3,0Z\" style=\"opacity: 1; stroke-width: 0px; fill: rgb(13, 8, 135); fill-opacity: 1;\"/><path class=\"point plotly-customdata\" transform=\"translate(221.94,287.12)\" d=\"M3,0A3,3 0 1,1 0,-3A3,3 0 0,1 3,0Z\" style=\"opacity: 1; stroke-width: 0px; fill: rgb(240, 249, 33); fill-opacity: 1;\"/><path class=\"point plotly-customdata\" transform=\"translate(230.56,282.8)\" d=\"M3,0A3,3 0 1,1 0,-3A3,3 0 0,1 3,0Z\" style=\"opacity: 1; stroke-width: 0px; fill: rgb(240, 249, 33); fill-opacity: 1;\"/><path class=\"point plotly-customdata\" transform=\"translate(148.07,325.13)\" d=\"M3,0A3,3 0 1,1 0,-3A3,3 0 0,1 3,0Z\" style=\"opacity: 1; stroke-width: 0px; fill: rgb(240, 249, 33); fill-opacity: 1;\"/><path class=\"point plotly-customdata\" transform=\"translate(97.34,151.59)\" d=\"M3,0A3,3 0 1,1 0,-3A3,3 0 0,1 3,0Z\" style=\"opacity: 1; stroke-width: 0px; fill: rgb(13, 8, 135); fill-opacity: 1;\"/><path class=\"point plotly-customdata\" transform=\"translate(164.8,322.46)\" d=\"M3,0A3,3 0 1,1 0,-3A3,3 0 0,1 3,0Z\" style=\"opacity: 1; stroke-width: 0px; fill: rgb(240, 249, 33); fill-opacity: 1;\"/><path class=\"point plotly-customdata\" transform=\"translate(97.1,189.46)\" d=\"M3,0A3,3 0 1,1 0,-3A3,3 0 0,1 3,0Z\" style=\"opacity: 1; stroke-width: 0px; fill: rgb(13, 8, 135); fill-opacity: 1;\"/><path class=\"point plotly-customdata\" transform=\"translate(171.31,207.55)\" d=\"M3,0A3,3 0 1,1 0,-3A3,3 0 0,1 3,0Z\" style=\"opacity: 1; stroke-width: 0px; fill: rgb(13, 8, 135); fill-opacity: 1;\"/><path class=\"point plotly-customdata\" transform=\"translate(497.85,117.38)\" d=\"M3,0A3,3 0 1,1 0,-3A3,3 0 0,1 3,0Z\" style=\"opacity: 1; stroke-width: 0px; fill: rgb(203, 71, 121); fill-opacity: 1;\"/><path class=\"point plotly-customdata\" transform=\"translate(349.92,280.1)\" d=\"M3,0A3,3 0 1,1 0,-3A3,3 0 0,1 3,0Z\" style=\"opacity: 1; stroke-width: 0px; fill: rgb(240, 249, 33); fill-opacity: 1;\"/><path class=\"point plotly-customdata\" transform=\"translate(50.56,304.34)\" d=\"M3,0A3,3 0 1,1 0,-3A3,3 0 0,1 3,0Z\" style=\"opacity: 1; stroke-width: 0px; fill: rgb(13, 8, 135); fill-opacity: 1;\"/><path class=\"point plotly-customdata\" transform=\"translate(109.79,142.53)\" d=\"M3,0A3,3 0 1,1 0,-3A3,3 0 0,1 3,0Z\" style=\"opacity: 1; stroke-width: 0px; fill: rgb(13, 8, 135); fill-opacity: 1;\"/><path class=\"point plotly-customdata\" transform=\"translate(326.57,176.51)\" d=\"M3,0A3,3 0 1,1 0,-3A3,3 0 0,1 3,0Z\" style=\"opacity: 1; stroke-width: 0px; fill: rgb(203, 71, 121); fill-opacity: 1;\"/><path class=\"point plotly-customdata\" transform=\"translate(192.87,258.15)\" d=\"M3,0A3,3 0 1,1 0,-3A3,3 0 0,1 3,0Z\" style=\"opacity: 1; stroke-width: 0px; fill: rgb(240, 249, 33); fill-opacity: 1;\"/><path class=\"point plotly-customdata\" transform=\"translate(146.45,160.9)\" d=\"M3,0A3,3 0 1,1 0,-3A3,3 0 0,1 3,0Z\" style=\"opacity: 1; stroke-width: 0px; fill: rgb(13, 8, 135); fill-opacity: 1;\"/><path class=\"point plotly-customdata\" transform=\"translate(197.43,245.76)\" d=\"M3,0A3,3 0 1,1 0,-3A3,3 0 0,1 3,0Z\" style=\"opacity: 1; stroke-width: 0px; fill: rgb(240, 249, 33); fill-opacity: 1;\"/><path class=\"point plotly-customdata\" transform=\"translate(484.37,139.46)\" d=\"M3,0A3,3 0 1,1 0,-3A3,3 0 0,1 3,0Z\" style=\"opacity: 1; stroke-width: 0px; fill: rgb(203, 71, 121); fill-opacity: 1;\"/><path class=\"point plotly-customdata\" transform=\"translate(362.05,163.73)\" d=\"M3,0A3,3 0 1,1 0,-3A3,3 0 0,1 3,0Z\" style=\"opacity: 1; stroke-width: 0px; fill: rgb(203, 71, 121); fill-opacity: 1;\"/><path class=\"point plotly-customdata\" transform=\"translate(331.58,283.75)\" d=\"M3,0A3,3 0 1,1 0,-3A3,3 0 0,1 3,0Z\" style=\"opacity: 1; stroke-width: 0px; fill: rgb(240, 249, 33); fill-opacity: 1;\"/><path class=\"point plotly-customdata\" transform=\"translate(157.09,181.36)\" d=\"M3,0A3,3 0 1,1 0,-3A3,3 0 0,1 3,0Z\" style=\"opacity: 1; stroke-width: 0px; fill: rgb(13, 8, 135); fill-opacity: 1;\"/><path class=\"point plotly-customdata\" transform=\"translate(316.26,307)\" d=\"M3,0A3,3 0 1,1 0,-3A3,3 0 0,1 3,0Z\" style=\"opacity: 1; stroke-width: 0px; fill: rgb(240, 249, 33); fill-opacity: 1;\"/><path class=\"point plotly-customdata\" transform=\"translate(482.73,21.75)\" d=\"M3,0A3,3 0 1,1 0,-3A3,3 0 0,1 3,0Z\" style=\"opacity: 1; stroke-width: 0px; fill: rgb(203, 71, 121); fill-opacity: 1;\"/><path class=\"point plotly-customdata\" transform=\"translate(273.71,289.52)\" d=\"M3,0A3,3 0 1,1 0,-3A3,3 0 0,1 3,0Z\" style=\"opacity: 1; stroke-width: 0px; fill: rgb(240, 249, 33); fill-opacity: 1;\"/><path class=\"point plotly-customdata\" transform=\"translate(361,322.41)\" d=\"M3,0A3,3 0 1,1 0,-3A3,3 0 0,1 3,0Z\" style=\"opacity: 1; stroke-width: 0px; fill: rgb(240, 249, 33); fill-opacity: 1;\"/><path class=\"point plotly-customdata\" transform=\"translate(349,207.83)\" d=\"M3,0A3,3 0 1,1 0,-3A3,3 0 0,1 3,0Z\" style=\"opacity: 1; stroke-width: 0px; fill: rgb(203, 71, 121); fill-opacity: 1;\"/><path class=\"point plotly-customdata\" transform=\"translate(266.24,90.87)\" d=\"M3,0A3,3 0 1,1 0,-3A3,3 0 0,1 3,0Z\" style=\"opacity: 1; stroke-width: 0px; fill: rgb(203, 71, 121); fill-opacity: 1;\"/><path class=\"point plotly-customdata\" transform=\"translate(253.41,192.36)\" d=\"M3,0A3,3 0 1,1 0,-3A3,3 0 0,1 3,0Z\" style=\"opacity: 1; stroke-width: 0px; fill: rgb(240, 249, 33); fill-opacity: 1;\"/><path class=\"point plotly-customdata\" transform=\"translate(130.42,273.79)\" d=\"M3,0A3,3 0 1,1 0,-3A3,3 0 0,1 3,0Z\" style=\"opacity: 1; stroke-width: 0px; fill: rgb(13, 8, 135); fill-opacity: 1;\"/><path class=\"point plotly-customdata\" transform=\"translate(257.7,296.31)\" d=\"M3,0A3,3 0 1,1 0,-3A3,3 0 0,1 3,0Z\" style=\"opacity: 1; stroke-width: 0px; fill: rgb(240, 249, 33); fill-opacity: 1;\"/><path class=\"point plotly-customdata\" transform=\"translate(351.65,261.24)\" d=\"M3,0A3,3 0 1,1 0,-3A3,3 0 0,1 3,0Z\" style=\"opacity: 1; stroke-width: 0px; fill: rgb(240, 249, 33); fill-opacity: 1;\"/><path class=\"point plotly-customdata\" transform=\"translate(310.75,284.83)\" d=\"M3,0A3,3 0 1,1 0,-3A3,3 0 0,1 3,0Z\" style=\"opacity: 1; stroke-width: 0px; fill: rgb(240, 249, 33); fill-opacity: 1;\"/><path class=\"point plotly-customdata\" transform=\"translate(244.97,234.1)\" d=\"M3,0A3,3 0 1,1 0,-3A3,3 0 0,1 3,0Z\" style=\"opacity: 1; stroke-width: 0px; fill: rgb(240, 249, 33); fill-opacity: 1;\"/><path class=\"point plotly-customdata\" transform=\"translate(324.41,136.17)\" d=\"M3,0A3,3 0 1,1 0,-3A3,3 0 0,1 3,0Z\" style=\"opacity: 1; stroke-width: 0px; fill: rgb(203, 71, 121); fill-opacity: 1;\"/><path class=\"point plotly-customdata\" transform=\"translate(331.66,292.27)\" d=\"M3,0A3,3 0 1,1 0,-3A3,3 0 0,1 3,0Z\" style=\"opacity: 1; stroke-width: 0px; fill: rgb(240, 249, 33); fill-opacity: 1;\"/><path class=\"point plotly-customdata\" transform=\"translate(287.6,169.14)\" d=\"M3,0A3,3 0 1,1 0,-3A3,3 0 0,1 3,0Z\" style=\"opacity: 1; stroke-width: 0px; fill: rgb(203, 71, 121); fill-opacity: 1;\"/><path class=\"point plotly-customdata\" transform=\"translate(306.79,290.63)\" d=\"M3,0A3,3 0 1,1 0,-3A3,3 0 0,1 3,0Z\" style=\"opacity: 1; stroke-width: 0px; fill: rgb(240, 249, 33); fill-opacity: 1;\"/></g><g class=\"text\"/></g></g></g><g class=\"overplot\"/><path class=\"xlines-above crisp\" d=\"M0,0\" style=\"fill: none;\"/><path class=\"ylines-above crisp\" d=\"M0,0\" style=\"fill: none;\"/><g class=\"overlines-above\"/><g class=\"xaxislayer-above\"><g class=\"xtick\"><text text-anchor=\"middle\" x=\"0\" y=\"433\" transform=\"translate(91.71000000000001,0)\" style=\"font-family: 'Open Sans', verdana, arial, sans-serif; font-size: 12px; fill: rgb(42, 63, 95); fill-opacity: 1; white-space: pre; opacity: 1;\">−4</text></g><g class=\"xtick\"><text text-anchor=\"middle\" x=\"0\" y=\"433\" style=\"font-family: 'Open Sans', verdana, arial, sans-serif; font-size: 12px; fill: rgb(42, 63, 95); fill-opacity: 1; white-space: pre; opacity: 1;\" transform=\"translate(200.49,0)\">−2</text></g><g class=\"xtick\"><text text-anchor=\"middle\" x=\"0\" y=\"433\" style=\"font-family: 'Open Sans', verdana, arial, sans-serif; font-size: 12px; fill: rgb(42, 63, 95); fill-opacity: 1; white-space: pre; opacity: 1;\" transform=\"translate(309.28,0)\">0</text></g><g class=\"xtick\"><text text-anchor=\"middle\" x=\"0\" y=\"433\" style=\"font-family: 'Open Sans', verdana, arial, sans-serif; font-size: 12px; fill: rgb(42, 63, 95); fill-opacity: 1; white-space: pre; opacity: 1;\" transform=\"translate(418.06,0)\">2</text></g><g class=\"xtick\"><text text-anchor=\"middle\" x=\"0\" y=\"433\" style=\"font-family: 'Open Sans', verdana, arial, sans-serif; font-size: 12px; fill: rgb(42, 63, 95); fill-opacity: 1; white-space: pre; opacity: 1;\" transform=\"translate(526.85,0)\">4</text></g></g><g class=\"yaxislayer-above\"><g class=\"ytick\"><text text-anchor=\"end\" x=\"79\" y=\"4.199999999999999\" transform=\"translate(0,374.09)\" style=\"font-family: 'Open Sans', verdana, arial, sans-serif; font-size: 12px; fill: rgb(42, 63, 95); fill-opacity: 1; white-space: pre; opacity: 1;\">−2</text></g><g class=\"ytick\"><text text-anchor=\"end\" x=\"79\" y=\"4.199999999999999\" style=\"font-family: 'Open Sans', verdana, arial, sans-serif; font-size: 12px; fill: rgb(42, 63, 95); fill-opacity: 1; white-space: pre; opacity: 1;\" transform=\"translate(0,324.15)\">−1</text></g><g class=\"ytick\"><text text-anchor=\"end\" x=\"79\" y=\"4.199999999999999\" style=\"font-family: 'Open Sans', verdana, arial, sans-serif; font-size: 12px; fill: rgb(42, 63, 95); fill-opacity: 1; white-space: pre; opacity: 1;\" transform=\"translate(0,274.21000000000004)\">0</text></g><g class=\"ytick\"><text text-anchor=\"end\" x=\"79\" y=\"4.199999999999999\" style=\"font-family: 'Open Sans', verdana, arial, sans-serif; font-size: 12px; fill: rgb(42, 63, 95); fill-opacity: 1; white-space: pre; opacity: 1;\" transform=\"translate(0,224.27)\">1</text></g><g class=\"ytick\"><text text-anchor=\"end\" x=\"79\" y=\"4.199999999999999\" style=\"font-family: 'Open Sans', verdana, arial, sans-serif; font-size: 12px; fill: rgb(42, 63, 95); fill-opacity: 1; white-space: pre; opacity: 1;\" transform=\"translate(0,174.32999999999998)\">2</text></g><g class=\"ytick\"><text text-anchor=\"end\" x=\"79\" y=\"4.199999999999999\" style=\"font-family: 'Open Sans', verdana, arial, sans-serif; font-size: 12px; fill: rgb(42, 63, 95); fill-opacity: 1; white-space: pre; opacity: 1;\" transform=\"translate(0,124.39)\">3</text></g><g class=\"ytick\"><text text-anchor=\"end\" x=\"79\" y=\"4.199999999999999\" style=\"font-family: 'Open Sans', verdana, arial, sans-serif; font-size: 12px; fill: rgb(42, 63, 95); fill-opacity: 1; white-space: pre; opacity: 1;\" transform=\"translate(0,74.45)\">4</text></g></g><g class=\"overaxes-above\"/></g></g><g class=\"polarlayer\"/><g class=\"smithlayer\"/><g class=\"ternarylayer\"/><g class=\"geolayer\"/><g class=\"funnelarealayer\"/><g class=\"pielayer\"/><g class=\"iciclelayer\"/><g class=\"treemaplayer\"/><g class=\"sunburstlayer\"/><g class=\"glimages\"/><defs id=\"topdefs-89050e\"><g class=\"clips\"/></defs><g class=\"layer-above\"><g class=\"imagelayer\"/><g class=\"shapelayer\"/></g><g class=\"infolayer\"><g class=\"cbcoloraxis colorbar\" transform=\"translate(80,60)\"><rect class=\"cbbg\" x=\"539\" y=\"0\" width=\"69.640625\" height=\"360\" style=\"fill: rgb(0, 0, 0); fill-opacity: 0; stroke: rgb(68, 68, 68); stroke-opacity: 1; stroke-width: 0;\"/><g class=\"cbfills\" transform=\"translate(0,32)\"><rect class=\"cbfill\" x=\"549\" y=\"0\" width=\"30\" height=\"318\" style=\"fill: url('#g89050e-cbcoloraxis');\"/></g><g class=\"cblines\" transform=\"translate(0,32)\"/><g class=\"cbaxis crisp\" transform=\"translate(0,-60)\"><g class=\"ycbcoloraxistick\"><text text-anchor=\"start\" x=\"581.9\" y=\"4.199999999999999\" transform=\"translate(0,410)\" style=\"font-family: 'Open Sans', verdana, arial, sans-serif; font-size: 12px; fill: rgb(42, 63, 95); fill-opacity: 1; white-space: pre; opacity: 1;\">0</text></g><g class=\"ycbcoloraxistick\"><text text-anchor=\"start\" x=\"581.9\" y=\"4.199999999999999\" style=\"font-family: 'Open Sans', verdana, arial, sans-serif; font-size: 12px; fill: rgb(42, 63, 95); fill-opacity: 1; white-space: pre; opacity: 1;\" transform=\"translate(0,330.5)\">0.5</text></g><g class=\"ycbcoloraxistick\"><text text-anchor=\"start\" x=\"581.9\" y=\"4.199999999999999\" style=\"font-family: 'Open Sans', verdana, arial, sans-serif; font-size: 12px; fill: rgb(42, 63, 95); fill-opacity: 1; white-space: pre; opacity: 1;\" transform=\"translate(0,251)\">1</text></g><g class=\"ycbcoloraxistick\"><text text-anchor=\"start\" x=\"581.9\" y=\"4.199999999999999\" style=\"font-family: 'Open Sans', verdana, arial, sans-serif; font-size: 12px; fill: rgb(42, 63, 95); fill-opacity: 1; white-space: pre; opacity: 1;\" transform=\"translate(0,171.5)\">1.5</text></g><g class=\"ycbcoloraxistick\"><text text-anchor=\"start\" x=\"581.9\" y=\"4.199999999999999\" style=\"font-family: 'Open Sans', verdana, arial, sans-serif; font-size: 12px; fill: rgb(42, 63, 95); fill-opacity: 1; white-space: pre; opacity: 1;\" transform=\"translate(0,92)\">2</text></g></g><g class=\"cbtitleunshift\" transform=\"translate(-80,-60)\"><g class=\"cbtitle\" transform=\"\"><text class=\"ycbcoloraxistitle\" x=\"628.5600000000001\" y=\"83.5\" text-anchor=\"start\" style=\"font-family: 'Open Sans', verdana, arial, sans-serif; font-size: 14px; fill: rgb(42, 63, 95); opacity: 1; font-weight: normal; white-space: pre;\">cluster</text></g></g><rect class=\"cboutline\" x=\"549\" y=\"32\" width=\"30\" height=\"318\" style=\"stroke: rgb(68, 68, 68); stroke-opacity: 1; fill: none; stroke-width: 0;\"/></g><g class=\"g-gtitle\"/><g class=\"g-xtitle\"><text class=\"xtitle\" x=\"344\" y=\"460.3\" text-anchor=\"middle\" style=\"font-family: 'Open Sans', verdana, arial, sans-serif; font-size: 14px; fill: rgb(42, 63, 95); opacity: 1; font-weight: normal; white-space: pre;\">PC1</text></g><g class=\"g-ytitle\"><text class=\"ytitle\" transform=\"rotate(-90,36.746875,240)\" x=\"36.746875\" y=\"240\" text-anchor=\"middle\" style=\"font-family: 'Open Sans', verdana, arial, sans-serif; font-size: 14px; fill: rgb(42, 63, 95); opacity: 1; font-weight: normal; white-space: pre;\">PC2</text></g></g></svg>"
      ]
     },
     "metadata": {},
     "output_type": "display_data"
    }
   ],
   "source": [
    "fig = px.scatter(pca_df, x=\"PC1\", y=\"PC2\", color='cluster')\n",
    "\n",
    "fig = px.scatter(\n",
    "    data_frame=pca_df, \n",
    "    x='PC1', \n",
    "    y='PC2', \n",
    "    color='cluster',\n",
    "    custom_data=['name', 'cluster']\n",
    ")\n",
    "\n",
    "fig.update_traces(\n",
    "    hovertemplate=\"<br>\".join([\n",
    "        \"name: %{customdata[0]}\",\n",
    "        \"cluster: %{customdata[1]}\",\n",
    "    ])\n",
    ")\n",
    "\n",
    "# fig.show()\n",
    "fig.show(renderer=\"svg\")"
   ]
  },
  {
   "cell_type": "code",
   "execution_count": null,
   "id": "ffc1bff1",
   "metadata": {},
   "outputs": [],
   "source": []
  }
 ],
 "metadata": {
  "kernelspec": {
   "display_name": "Python 3 (ipykernel)",
   "language": "python",
   "name": "python3"
  },
  "language_info": {
   "codemirror_mode": {
    "name": "ipython",
    "version": 3
   },
   "file_extension": ".py",
   "mimetype": "text/x-python",
   "name": "python",
   "nbconvert_exporter": "python",
   "pygments_lexer": "ipython3",
   "version": "3.9.7"
  }
 },
 "nbformat": 4,
 "nbformat_minor": 5
}
